{
  "nbformat": 4,
  "nbformat_minor": 0,
  "metadata": {
    "colab": {
      "provenance": [],
      "authorship_tag": "ABX9TyP2up2Q5V63N4dBo98BTdAZ",
      "include_colab_link": true
    },
    "kernelspec": {
      "name": "python3",
      "display_name": "Python 3"
    },
    "language_info": {
      "name": "python"
    }
  },
  "cells": [
    {
      "cell_type": "markdown",
      "metadata": {
        "id": "view-in-github",
        "colab_type": "text"
      },
      "source": [
        "<a href=\"https://colab.research.google.com/github/meganeunpu9/challenge_18/blob/main/pychain_final.ipynb\" target=\"_parent\"><img src=\"https://colab.research.google.com/assets/colab-badge.svg\" alt=\"Open In Colab\"/></a>"
      ]
    },
    {
      "cell_type": "code",
      "execution_count": 2,
      "metadata": {
        "colab": {
          "base_uri": "https://localhost:8080/"
        },
        "collapsed": true,
        "id": "uNGYXk2fXrfD",
        "outputId": "405ee240-a978-41fc-e7bf-c4222f2be771"
      },
      "outputs": [
        {
          "output_type": "stream",
          "name": "stdout",
          "text": [
            "Collecting streamlit\n",
            "  Downloading streamlit-1.37.1-py2.py3-none-any.whl.metadata (8.5 kB)\n",
            "Requirement already satisfied: altair<6,>=4.0 in /usr/local/lib/python3.10/dist-packages (from streamlit) (4.2.2)\n",
            "Requirement already satisfied: blinker<2,>=1.0.0 in /usr/lib/python3/dist-packages (from streamlit) (1.4)\n",
            "Requirement already satisfied: cachetools<6,>=4.0 in /usr/local/lib/python3.10/dist-packages (from streamlit) (5.5.0)\n",
            "Requirement already satisfied: click<9,>=7.0 in /usr/local/lib/python3.10/dist-packages (from streamlit) (8.1.7)\n",
            "Requirement already satisfied: numpy<3,>=1.20 in /usr/local/lib/python3.10/dist-packages (from streamlit) (1.26.4)\n",
            "Requirement already satisfied: packaging<25,>=20 in /usr/local/lib/python3.10/dist-packages (from streamlit) (24.1)\n",
            "Requirement already satisfied: pandas<3,>=1.3.0 in /usr/local/lib/python3.10/dist-packages (from streamlit) (2.1.4)\n",
            "Requirement already satisfied: pillow<11,>=7.1.0 in /usr/local/lib/python3.10/dist-packages (from streamlit) (9.4.0)\n",
            "Requirement already satisfied: protobuf<6,>=3.20 in /usr/local/lib/python3.10/dist-packages (from streamlit) (3.20.3)\n",
            "Requirement already satisfied: pyarrow>=7.0 in /usr/local/lib/python3.10/dist-packages (from streamlit) (14.0.2)\n",
            "Requirement already satisfied: requests<3,>=2.27 in /usr/local/lib/python3.10/dist-packages (from streamlit) (2.32.3)\n",
            "Requirement already satisfied: rich<14,>=10.14.0 in /usr/local/lib/python3.10/dist-packages (from streamlit) (13.7.1)\n",
            "Collecting tenacity<9,>=8.1.0 (from streamlit)\n",
            "  Downloading tenacity-8.5.0-py3-none-any.whl.metadata (1.2 kB)\n",
            "Requirement already satisfied: toml<2,>=0.10.1 in /usr/local/lib/python3.10/dist-packages (from streamlit) (0.10.2)\n",
            "Requirement already satisfied: typing-extensions<5,>=4.3.0 in /usr/local/lib/python3.10/dist-packages (from streamlit) (4.12.2)\n",
            "Collecting gitpython!=3.1.19,<4,>=3.0.7 (from streamlit)\n",
            "  Downloading GitPython-3.1.43-py3-none-any.whl.metadata (13 kB)\n",
            "Collecting pydeck<1,>=0.8.0b4 (from streamlit)\n",
            "  Downloading pydeck-0.9.1-py2.py3-none-any.whl.metadata (4.1 kB)\n",
            "Requirement already satisfied: tornado<7,>=6.0.3 in /usr/local/lib/python3.10/dist-packages (from streamlit) (6.3.3)\n",
            "Collecting watchdog<5,>=2.1.5 (from streamlit)\n",
            "  Downloading watchdog-4.0.2-py3-none-manylinux2014_x86_64.whl.metadata (38 kB)\n",
            "Requirement already satisfied: entrypoints in /usr/local/lib/python3.10/dist-packages (from altair<6,>=4.0->streamlit) (0.4)\n",
            "Requirement already satisfied: jinja2 in /usr/local/lib/python3.10/dist-packages (from altair<6,>=4.0->streamlit) (3.1.4)\n",
            "Requirement already satisfied: jsonschema>=3.0 in /usr/local/lib/python3.10/dist-packages (from altair<6,>=4.0->streamlit) (4.23.0)\n",
            "Requirement already satisfied: toolz in /usr/local/lib/python3.10/dist-packages (from altair<6,>=4.0->streamlit) (0.12.1)\n",
            "Collecting gitdb<5,>=4.0.1 (from gitpython!=3.1.19,<4,>=3.0.7->streamlit)\n",
            "  Downloading gitdb-4.0.11-py3-none-any.whl.metadata (1.2 kB)\n",
            "Requirement already satisfied: python-dateutil>=2.8.2 in /usr/local/lib/python3.10/dist-packages (from pandas<3,>=1.3.0->streamlit) (2.8.2)\n",
            "Requirement already satisfied: pytz>=2020.1 in /usr/local/lib/python3.10/dist-packages (from pandas<3,>=1.3.0->streamlit) (2024.1)\n",
            "Requirement already satisfied: tzdata>=2022.1 in /usr/local/lib/python3.10/dist-packages (from pandas<3,>=1.3.0->streamlit) (2024.1)\n",
            "Requirement already satisfied: charset-normalizer<4,>=2 in /usr/local/lib/python3.10/dist-packages (from requests<3,>=2.27->streamlit) (3.3.2)\n",
            "Requirement already satisfied: idna<4,>=2.5 in /usr/local/lib/python3.10/dist-packages (from requests<3,>=2.27->streamlit) (3.7)\n",
            "Requirement already satisfied: urllib3<3,>=1.21.1 in /usr/local/lib/python3.10/dist-packages (from requests<3,>=2.27->streamlit) (2.0.7)\n",
            "Requirement already satisfied: certifi>=2017.4.17 in /usr/local/lib/python3.10/dist-packages (from requests<3,>=2.27->streamlit) (2024.7.4)\n",
            "Requirement already satisfied: markdown-it-py>=2.2.0 in /usr/local/lib/python3.10/dist-packages (from rich<14,>=10.14.0->streamlit) (3.0.0)\n",
            "Requirement already satisfied: pygments<3.0.0,>=2.13.0 in /usr/local/lib/python3.10/dist-packages (from rich<14,>=10.14.0->streamlit) (2.16.1)\n",
            "Collecting smmap<6,>=3.0.1 (from gitdb<5,>=4.0.1->gitpython!=3.1.19,<4,>=3.0.7->streamlit)\n",
            "  Downloading smmap-5.0.1-py3-none-any.whl.metadata (4.3 kB)\n",
            "Requirement already satisfied: MarkupSafe>=2.0 in /usr/local/lib/python3.10/dist-packages (from jinja2->altair<6,>=4.0->streamlit) (2.1.5)\n",
            "Requirement already satisfied: attrs>=22.2.0 in /usr/local/lib/python3.10/dist-packages (from jsonschema>=3.0->altair<6,>=4.0->streamlit) (24.2.0)\n",
            "Requirement already satisfied: jsonschema-specifications>=2023.03.6 in /usr/local/lib/python3.10/dist-packages (from jsonschema>=3.0->altair<6,>=4.0->streamlit) (2023.12.1)\n",
            "Requirement already satisfied: referencing>=0.28.4 in /usr/local/lib/python3.10/dist-packages (from jsonschema>=3.0->altair<6,>=4.0->streamlit) (0.35.1)\n",
            "Requirement already satisfied: rpds-py>=0.7.1 in /usr/local/lib/python3.10/dist-packages (from jsonschema>=3.0->altair<6,>=4.0->streamlit) (0.20.0)\n",
            "Requirement already satisfied: mdurl~=0.1 in /usr/local/lib/python3.10/dist-packages (from markdown-it-py>=2.2.0->rich<14,>=10.14.0->streamlit) (0.1.2)\n",
            "Requirement already satisfied: six>=1.5 in /usr/local/lib/python3.10/dist-packages (from python-dateutil>=2.8.2->pandas<3,>=1.3.0->streamlit) (1.16.0)\n",
            "Downloading streamlit-1.37.1-py2.py3-none-any.whl (8.7 MB)\n",
            "\u001b[2K   \u001b[90m━━━━━━━━━━━━━━━━━━━━━━━━━━━━━━━━━━━━━━━━\u001b[0m \u001b[32m8.7/8.7 MB\u001b[0m \u001b[31m68.5 MB/s\u001b[0m eta \u001b[36m0:00:00\u001b[0m\n",
            "\u001b[?25hDownloading GitPython-3.1.43-py3-none-any.whl (207 kB)\n",
            "\u001b[2K   \u001b[90m━━━━━━━━━━━━━━━━━━━━━━━━━━━━━━━━━━━━━━━━\u001b[0m \u001b[32m207.3/207.3 kB\u001b[0m \u001b[31m13.7 MB/s\u001b[0m eta \u001b[36m0:00:00\u001b[0m\n",
            "\u001b[?25hDownloading pydeck-0.9.1-py2.py3-none-any.whl (6.9 MB)\n",
            "\u001b[2K   \u001b[90m━━━━━━━━━━━━━━━━━━━━━━━━━━━━━━━━━━━━━━━━\u001b[0m \u001b[32m6.9/6.9 MB\u001b[0m \u001b[31m66.1 MB/s\u001b[0m eta \u001b[36m0:00:00\u001b[0m\n",
            "\u001b[?25hDownloading tenacity-8.5.0-py3-none-any.whl (28 kB)\n",
            "Downloading watchdog-4.0.2-py3-none-manylinux2014_x86_64.whl (82 kB)\n",
            "\u001b[2K   \u001b[90m━━━━━━━━━━━━━━━━━━━━━━━━━━━━━━━━━━━━━━━━\u001b[0m \u001b[32m82.9/82.9 kB\u001b[0m \u001b[31m5.2 MB/s\u001b[0m eta \u001b[36m0:00:00\u001b[0m\n",
            "\u001b[?25hDownloading gitdb-4.0.11-py3-none-any.whl (62 kB)\n",
            "\u001b[2K   \u001b[90m━━━━━━━━━━━━━━━━━━━━━━━━━━━━━━━━━━━━━━━━\u001b[0m \u001b[32m62.7/62.7 kB\u001b[0m \u001b[31m4.2 MB/s\u001b[0m eta \u001b[36m0:00:00\u001b[0m\n",
            "\u001b[?25hDownloading smmap-5.0.1-py3-none-any.whl (24 kB)\n",
            "Installing collected packages: watchdog, tenacity, smmap, pydeck, gitdb, gitpython, streamlit\n",
            "  Attempting uninstall: tenacity\n",
            "    Found existing installation: tenacity 9.0.0\n",
            "    Uninstalling tenacity-9.0.0:\n",
            "      Successfully uninstalled tenacity-9.0.0\n",
            "Successfully installed gitdb-4.0.11 gitpython-3.1.43 pydeck-0.9.1 smmap-5.0.1 streamlit-1.37.1 tenacity-8.5.0 watchdog-4.0.2\n"
          ]
        }
      ],
      "source": [
        "!pip install streamlit\n",
        "# Imports\n",
        "import streamlit as st\n",
        "from dataclasses import dataclass\n",
        "from typing import Any, List\n",
        "import datetime as datetime\n",
        "import pandas as pd\n",
        "import hashlib"
      ]
    },
    {
      "cell_type": "code",
      "source": [
        "# Imports\n",
        "import streamlit as st\n",
        "from dataclasses import dataclass\n",
        "from typing import Any, List\n",
        "import datetime as datetime\n",
        "import pandas as pd\n",
        "import hashlib"
      ],
      "metadata": {
        "id": "8NVftUUcX-Pj"
      },
      "execution_count": 3,
      "outputs": []
    },
    {
      "cell_type": "code",
      "source": [
        "# Step 1:\n",
        "# Create a Record Data Class\n",
        "\n",
        "st.set_page_config(page_title=\"PyChain Ledger\", page_icon=\"💸\", layout=\"wide\")\n",
        "\n",
        "@dataclass\n",
        "class Record:\n",
        "    sender: str\n",
        "    receiver: str\n",
        "    amount: float"
      ],
      "metadata": {
        "id": "93i1Lw0VYKb0"
      },
      "execution_count": 7,
      "outputs": []
    },
    {
      "cell_type": "code",
      "source": [
        "# Step 2:\n",
        "# Modify the Existing Block Data Class to Store Record Data\n",
        "\n",
        "@dataclass\n",
        "class Block:\n",
        "    Record: Record\n",
        "    creator_id: int\n",
        "    prev_hash: str = \"0\"\n",
        "    timestamp: str = datetime.datetime.utcnow().strftime(\"%H:%M:%S\")\n",
        "    nonce: int = 0\n",
        "\n",
        "    def hash_block(self):\n",
        "        sha = hashlib.sha256()\n",
        "\n",
        "        record = str(self.record).encode()\n",
        "        sha.update(record)\n",
        "\n",
        "        creator_id = str(self.creator_id).encode()\n",
        "        sha.update(creator_id)\n",
        "\n",
        "        timestamp = str(self.timestamp).encode()\n",
        "        sha.update(timestamp)\n",
        "\n",
        "        prev_hash = str(self.prev_hash).encode()\n",
        "        sha.update(prev_hash)\n",
        "\n",
        "        nonce = str(self.nonce).encode()\n",
        "        sha.update(nonce)\n",
        "\n",
        "        return sha.hexdigest()\n",
        "\n",
        "\n",
        "@dataclass\n",
        "class PyChain:\n",
        "    chain: List[Block]\n",
        "    difficulty: int = 4\n",
        "\n",
        "    def proof_of_work(self, block):\n",
        "\n",
        "        calculated_hash = block.hash_block()\n",
        "\n",
        "        num_of_zeros = \"0\" * self.difficulty\n",
        "\n",
        "        while not calculated_hash.startswith(num_of_zeros):\n",
        "\n",
        "            block.nonce += 1\n",
        "\n",
        "            calculated_hash = block.hash_block()\n",
        "\n",
        "        print(\"Wining Hash\", calculated_hash)\n",
        "        return block\n",
        "\n",
        "    def add_block(self, candidate_block):\n",
        "        block = self.proof_of_work(candidate_block)\n",
        "        self.chain += [block]\n",
        "\n",
        "    def is_valid(self):\n",
        "        block_hash = self.chain[0].hash_block()\n",
        "\n",
        "        for block in self.chain[1:]:\n",
        "            if block_hash != block.prev_hash:\n",
        "                print(\"Blockchain is invalid!\")\n",
        "                return False\n",
        "\n",
        "            block_hash = block.hash_block()\n",
        "\n",
        "        print(\"Blockchain is Valid\")\n",
        "        return True"
      ],
      "metadata": {
        "id": "S8CWISmkYRHL"
      },
      "execution_count": 8,
      "outputs": []
    },
    {
      "cell_type": "code",
      "source": [
        "# Streamlit Code\n",
        "\n",
        "@st.cache(allow_output_mutation=True)\n",
        "def setup():\n",
        "    print(\"Initializing Chain\")\n",
        "    return PyChain([Block(\"Genesis\", 0)])\n",
        "\n",
        "\n",
        "st.markdown(\"# PyChain\")\n",
        "st.markdown(\"## Store a Transaction Record in the PyChain\")\n",
        "\n",
        "pychain = setup()"
      ],
      "metadata": {
        "colab": {
          "base_uri": "https://localhost:8080/"
        },
        "id": "iUEaJABLYZvY",
        "outputId": "ed5c4999-842e-4cf3-c6bd-f55786d566ba"
      },
      "execution_count": 9,
      "outputs": [
        {
          "output_type": "stream",
          "name": "stderr",
          "text": [
            "2024-08-24 22:00:09.534 \n",
            "`st.cache` is deprecated and will be removed soon. Please use one of Streamlit's new caching commands, `st.cache_data` or `st.cache_resource`.\n",
            "More information [in our docs](https://docs.streamlit.io/develop/concepts/architecture/caching).\n",
            "\n",
            "**Note**: The behavior of `st.cache` was updated in Streamlit 1.36 to the new caching logic used by `st.cache_data` and `st.cache_resource`.\n",
            "This might lead to some problems or unexpected behavior in certain edge cases.\n",
            "\n"
          ]
        },
        {
          "output_type": "stream",
          "name": "stdout",
          "text": [
            "Initializing Chain\n"
          ]
        }
      ]
    },
    {
      "cell_type": "code",
      "source": [
        "# Step 3:\n",
        "# Add Relevant User Inputs to the Streamlit Interface\n",
        "input_data = st.text_input(\"Block Data\")\n",
        "\n",
        "input_sender = st.text_input(\"sender\")\n",
        "input_recipient = st.text_input(\"recipient\")\n",
        "input_amount = st.text_input(\"amount\")\n",
        "\n",
        "if st.button(\"Add Block\"):\n",
        "    prev_block = pychain.chain[-1]\n",
        "    prev_block_hash = prev_block.hash_block()\n",
        "\n",
        "    new_block = Block(\n",
        "        record = Record(input_sender, input_recipient, input_amount),\n",
        "        creator_id=42,\n",
        "        prev_hash=prev_block_hash\n",
        "    )\n",
        "\n",
        "    pychain.add_block(new_block)\n",
        "    st.balloons()"
      ],
      "metadata": {
        "id": "cnwKuct6YhRi"
      },
      "execution_count": 10,
      "outputs": []
    },
    {
      "cell_type": "code",
      "source": [
        "# Streamlit Code (continues)\n",
        "\n",
        "st.markdown(\"## The PyChain Ledger\")\n",
        "\n",
        "pychain_df = pd.DataFrame(pychain.chain).astype(str)\n",
        "st.write(pychain_df)\n",
        "\n",
        "difficulty = st.sidebar.slider(\"Block Difficulty\", 1, 5, 2)\n",
        "pychain.difficulty = difficulty\n",
        "\n",
        "st.sidebar.write(\"# Block Inspector\")\n",
        "selected_block = st.sidebar.selectbox(\n",
        "    \"Which block would you like to see?\", pychain.chain\n",
        ")\n",
        "\n",
        "st.sidebar.write(selected_block)\n",
        "\n",
        "if st.button(\"Validate Chain\"):\n",
        "    st.write(pychain.is_valid())\n"
      ],
      "metadata": {
        "id": "pRcDfbPBYlC2"
      },
      "execution_count": 11,
      "outputs": []
    },
    {
      "cell_type": "code",
      "source": [
        "# Step 4:\n",
        "# Test the PyChain Ledger by Storing Records\n",
        "\n",
        "# Test your complete `PyChain` ledger and user interface by running your\n",
        "# Streamlit application and storing some mined blocks in your `PyChain` ledger.\n",
        "# Then test the blockchain validation process by using your `PyChain` ledger.\n",
        "# To do so, complete the following steps:\n",
        "\n",
        "# 1. In the terminal, navigate to the project folder where you've coded the\n",
        "#  Challenge.\n",
        "\n",
        "# 2. In the terminal, run the Streamlit application by\n",
        "# using `streamlit run pychain.py`.\n",
        "\n",
        "# 3. Enter values for the sender, receiver, and amount, and then click the \"Add\n",
        "# Block\" button. Do this several times to store several blocks in the ledger.\n",
        "\n",
        "# 4. Verify the block contents and hashes in the Streamlit drop-down menu.\n",
        "# Take a screenshot of the Streamlit application page, which should detail a\n",
        "# blockchain that consists of multiple blocks. Include the screenshot in the\n",
        "# `README.md` file for your Challenge repository.\n",
        "\n",
        "# 5. Test the blockchain validation process by using the web interface.\n",
        "# Take a screenshot of the Streamlit application page, which should indicate\n",
        "# the validity of the blockchain. Include the screenshot in the `README.md`\n",
        "# file for your Challenge repository.\n"
      ],
      "metadata": {
        "id": "G-GDyIR5YoE2"
      },
      "execution_count": null,
      "outputs": []
    }
  ]
}